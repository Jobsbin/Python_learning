{
 "cells": [
  {
   "cell_type": "markdown",
   "metadata": {},
   "source": [
    "# 1.Python语法基础"
   ]
  },
  {
   "cell_type": "markdown",
   "metadata": {},
   "source": [
    "### 1.1 常量与变量"
   ]
  },
  {
   "cell_type": "markdown",
   "metadata": {},
   "source": [
    "### 1.2  数与字符串"
   ]
  },
  {
   "cell_type": "code",
   "execution_count": 3,
   "metadata": {},
   "outputs": [
    {
     "name": "stdout",
     "output_type": "stream",
     "text": [
      "100 (4+2j) 4.0\n"
     ]
    }
   ],
   "source": [
    "a = 100 \n",
    "b = 4 + 2j\n",
    "print(a,b,b.real)"
   ]
  },
  {
   "cell_type": "code",
   "execution_count": 11,
   "metadata": {},
   "outputs": [
    {
     "name": "stdout",
     "output_type": "stream",
     "text": [
      "hello,python hello,'python hello,'python'\n",
      "hello python\n",
      "hello,python\n",
      "hello,python\\nhello,python\n"
     ]
    }
   ],
   "source": [
    "# 单引号   灵活运用单双引号可以减少转义字符\\的使用  \\n表示换行 ,如果要在字符串中保留\\需要使用自然字符串r\n",
    "\n",
    "c1 = 'hello,python'\n",
    "c2 = 'hello,\\'python'\n",
    "c3 = \"hello,'python'\"\n",
    "print(c1,c2,c3)\n",
    "print(\"hello python\\nhello,python\")\n",
    "print(r\"hello,python\\nhello,python\")"
   ]
  },
  {
   "cell_type": "markdown",
   "metadata": {},
   "source": [
    "### 字符串的索引和切片"
   ]
  },
  {
   "cell_type": "code",
   "execution_count": 15,
   "metadata": {},
   "outputs": [
    {
     "name": "stdout",
     "output_type": "stream",
     "text": [
      "w t woloves loves n hon wt\n"
     ]
    }
   ],
   "source": [
    "c1 = 'wolovestudypython'                     #  wolovestuypython\n",
    "c2 = c1[0] #python是以0作为开始来计算位数的        #123456789\n",
    "c3 = c1[7]\n",
    "c4 = c1[:7] # [:]切片中的 ：是包前不包后\n",
    "c5 = c1[2:7]  #[2:7]代表的是2，3，4，5，6五个位置的元素，不包括第7位元素\n",
    "c6 = c1[-1]  # [-1]表示的是从右边第一个位置\n",
    "c7 = c1[-3:] # [-3:]表示的是从倒数第三个数到最后的字符\n",
    "c8 = c2 + c3\n",
    "print(c2,c3,c4,c5,c6,c7,c8)\n",
    " "
   ]
  },
  {
   "cell_type": "markdown",
   "metadata": {},
   "source": [
    "### 1.3 数据类 （列表、元组、集合、字典）"
   ]
  },
  {
   "cell_type": "markdown",
   "metadata": {},
   "source": [
    "### 1.3.1 列表list\n",
    "可以容纳任意类型的对象，任何数量的对象。列表的长度是可变的，它所包含的内容是可以修改的。使用中括号[] 和list函数来定义列表。"
   ]
  },
  {
   "cell_type": "code",
   "execution_count": 5,
   "metadata": {},
   "outputs": [
    {
     "name": "stdout",
     "output_type": "stream",
     "text": [
      "[2, 3, 7, None]\n",
      "['foo', 'bar', 'bza']\n",
      "['foo', 'pealzoo', 'bza']\n"
     ]
    }
   ],
   "source": [
    "#定义一个列表\n",
    "a_list = [2,3,7,None]\n",
    "tup = ('foo','bar','bza') #tup是一个元组\n",
    "b_list = list(tup)\n",
    "print(a_list)\n",
    "print(b_list)\n",
    "\n",
    "#元素的获取可以通过[]来，修改列表中的值\n",
    "b_list[1] = 'pealzoo'\n",
    "print(b_list)"
   ]
  },
  {
   "cell_type": "markdown",
   "metadata": {},
   "source": [
    "#### list函数在数据处理中常用于将迭代器或者生成器转化为列表"
   ]
  },
  {
   "cell_type": "code",
   "execution_count": 6,
   "metadata": {},
   "outputs": [],
   "source": [
    "gen = range(10)"
   ]
  },
  {
   "cell_type": "code",
   "execution_count": 9,
   "metadata": {},
   "outputs": [
    {
     "name": "stdout",
     "output_type": "stream",
     "text": [
      "range(0, 10)\n"
     ]
    },
    {
     "data": {
      "text/plain": [
       "[0, 1, 2, 3, 4, 5, 6, 7, 8, 9]"
      ]
     },
     "execution_count": 9,
     "metadata": {},
     "output_type": "execute_result"
    }
   ],
   "source": [
    "gen\n",
    "print(gen)\n",
    "list(gen)"
   ]
  },
  {
   "cell_type": "markdown",
   "metadata": {},
   "source": [
    "#### 增加和移除元素\n",
    "使用append 方法可以将元素添加到列表的尾部"
   ]
  },
  {
   "cell_type": "code",
   "execution_count": 11,
   "metadata": {},
   "outputs": [
    {
     "name": "stdout",
     "output_type": "stream",
     "text": [
      "['foo', 'pealzoo', 'bza', 'asde', 'asde']\n"
     ]
    }
   ],
   "source": [
    "b_list.append('asde')\n",
    "print(b_list)"
   ]
  },
  {
   "cell_type": "markdown",
   "metadata": {},
   "source": [
    "#### 使用insert方法可以将元素插入到指定的列表位置"
   ]
  },
  {
   "cell_type": "code",
   "execution_count": 15,
   "metadata": {},
   "outputs": [
    {
     "name": "stdout",
     "output_type": "stream",
     "text": [
      "['foo', 'yelle', 'yelle', 'red', 'red', 'pealzoo', 'bza', 'asde', 'asde']\n"
     ]
    }
   ],
   "source": [
    "b_list.insert(1,'yelle')  #插入位置的范围是在0到列表长度之间。\n",
    "print(b_list)"
   ]
  },
  {
   "cell_type": "markdown",
   "metadata": {},
   "source": [
    "#### insert和append方法相比，计算代价更高，因为子序列元素不得不在内部移动为新元素提供空间。如果你想要在序列的头部和尾部都插入元素，那就应该探索下collection.deque，它是一个双端队列，可以满足头尾部都增加的要求。"
   ]
  },
  {
   "cell_type": "code",
   "execution_count": 18,
   "metadata": {},
   "outputs": [
    {
     "name": "stdout",
     "output_type": "stream",
     "text": [
      "deque(['Eric', 'John', 'Michael', 'Terry', 'Graham'])\n",
      "deque(['John', 'Michael', 'Terry', 'Graham'])\n",
      "deque(['jobsbin', 'John', 'Michael', 'Terry', 'Graham'])\n"
     ]
    }
   ],
   "source": [
    "from collections import deque\n",
    "queue = deque([\"Eric\", \"John\", \"Michael\"])\n",
    "queue.append(\"Terry\")           # Terry 入队\n",
    "queue.append(\"Graham\")          # Graham 入队\n",
    "print(queue)\n",
    "queue.popleft()                 # 队首元素出队\n",
    "print(queue)\n",
    "queue.appendleft('jobsbin')                 # 队首添加元素\n",
    "print(queue)                           # 队列中剩下的元素"
   ]
  },
  {
   "cell_type": "markdown",
   "metadata": {},
   "source": [
    "#### insert的反操作是 pop，该操作会将特定位置的元素移除并返回"
   ]
  },
  {
   "cell_type": "code",
   "execution_count": 21,
   "metadata": {},
   "outputs": [
    {
     "data": {
      "text/plain": [
       "'red'"
      ]
     },
     "execution_count": 21,
     "metadata": {},
     "output_type": "execute_result"
    }
   ],
   "source": [
    "b_list.pop(2)"
   ]
  },
  {
   "cell_type": "code",
   "execution_count": 22,
   "metadata": {},
   "outputs": [
    {
     "data": {
      "text/plain": [
       "['foo', 'yelle', 'pealzoo', 'bza', 'asde', 'asde']"
      ]
     },
     "execution_count": 22,
     "metadata": {},
     "output_type": "execute_result"
    }
   ],
   "source": [
    "b_list"
   ]
  },
  {
   "cell_type": "markdown",
   "metadata": {},
   "source": [
    "#### 元素也可以通过remove方法移除，该方法会定位第一个符合要求的值并移除它"
   ]
  },
  {
   "cell_type": "code",
   "execution_count": 25,
   "metadata": {},
   "outputs": [
    {
     "name": "stdout",
     "output_type": "stream",
     "text": [
      "['yelle', 'pealzoo', 'bza', 'asde', 'asde', 'jobsbin', 'foo', 'foo']\n",
      "['yelle', 'pealzoo', 'bza', 'asde', 'asde', 'jobsbin', 'foo']\n",
      "['yelle', 'pealzoo', 'bza', 'asde', 'asde', 'jobsbin']\n"
     ]
    }
   ],
   "source": [
    "b_list.append('foo')\n",
    "print(b_list)\n",
    "b_list.remove('foo')   # 会定位第一个符合要求的值并移除\n",
    "print(b_list)    \n",
    "b_list.remove('foo')\n",
    "print(b_list)"
   ]
  },
  {
   "cell_type": "markdown",
   "metadata": {},
   "source": [
    "#### 使用in关键字来检查一个值是否在列表中"
   ]
  },
  {
   "cell_type": "code",
   "execution_count": 31,
   "metadata": {},
   "outputs": [
    {
     "data": {
      "text/plain": [
       "True"
      ]
     },
     "execution_count": 31,
     "metadata": {},
     "output_type": "execute_result"
    }
   ],
   "source": [
    "'yelle' in b_list"
   ]
  },
  {
   "cell_type": "code",
   "execution_count": 29,
   "metadata": {},
   "outputs": [
    {
     "data": {
      "text/plain": [
       "False"
      ]
     },
     "execution_count": 29,
     "metadata": {},
     "output_type": "execute_result"
    }
   ],
   "source": [
    "'yelle' not in b_list\n"
   ]
  },
  {
   "cell_type": "markdown",
   "metadata": {},
   "source": [
    "与字典、集合相比，检查列表中是否包含一个值是非常缓慢的因为Python在列表中进行了线性逐个扫描，而在字典和集合中Python是同时检查所有元素的（基于哈希表）"
   ]
  },
  {
   "cell_type": "code",
   "execution_count": 50,
   "metadata": {},
   "outputs": [
    {
     "name": "stdout",
     "output_type": "stream",
     "text": [
      "['yelle', 'pealzoo', 'bza', 'asde', 'asde', 'jobsbin']\n"
     ]
    }
   ],
   "source": [
    "b_list.remove(5)\n",
    "print(b_list)"
   ]
  },
  {
   "cell_type": "markdown",
   "metadata": {},
   "source": [
    "#### 连接与联合列表"
   ]
  },
  {
   "cell_type": "code",
   "execution_count": 51,
   "metadata": {},
   "outputs": [
    {
     "data": {
      "text/plain": [
       "[4, None, 'fool', 7, 8, (2, 3)]"
      ]
     },
     "execution_count": 51,
     "metadata": {},
     "output_type": "execute_result"
    }
   ],
   "source": [
    "[4,None,'fool'] + [7,8,(2,3)]   #可以用+号来连接"
   ]
  },
  {
   "cell_type": "code",
   "execution_count": 53,
   "metadata": {},
   "outputs": [
    {
     "name": "stdout",
     "output_type": "stream",
     "text": [
      "[4, None, 'fool', 7, 8, (2, 3)]\n"
     ]
    }
   ],
   "source": [
    "a = [4,None,'fool']    #使用extend方法来向列表添加元素\n",
    "a.extend([7,8,(2,3)])\n",
    "print(a)"
   ]
  },
  {
   "cell_type": "markdown",
   "metadata": {},
   "source": [
    "### 1.3.2 元组（tuple)\n",
    "列表和元组最大的区别在于：列表中的元素的值可以修改，而元组中的元素不能修改，只能读取，另外列表的符号是[],而元组的符号是（）"
   ]
  },
  {
   "cell_type": "code",
   "execution_count": 43,
   "metadata": {},
   "outputs": [
    {
     "ename": "TypeError",
     "evalue": "'tuple' object does not support item assignment",
     "output_type": "error",
     "traceback": [
      "\u001b[0;31m---------------------------------------------------------------------------\u001b[0m",
      "\u001b[0;31mTypeError\u001b[0m                                 Traceback (most recent call last)",
      "\u001b[0;32m<ipython-input-43-27f4232664ee>\u001b[0m in \u001b[0;36m<module>\u001b[0;34m()\u001b[0m\n\u001b[1;32m      1\u001b[0m \u001b[0;31m#元组\u001b[0m\u001b[0;34m\u001b[0m\u001b[0;34m\u001b[0m\u001b[0m\n\u001b[1;32m      2\u001b[0m \u001b[0mstudents\u001b[0m \u001b[0;34m=\u001b[0m\u001b[0;34m(\u001b[0m\u001b[0;34m\"小明\"\u001b[0m\u001b[0;34m,\u001b[0m\u001b[0;34m\"小华\"\u001b[0m\u001b[0;34m,\u001b[0m\u001b[0;34m\"小李\"\u001b[0m\u001b[0;34m,\u001b[0m\u001b[0;34m'小娟'\u001b[0m\u001b[0;34m,\u001b[0m\u001b[0;36m3\u001b[0m\u001b[0;34m,\u001b[0m\u001b[0;34m'abcdfg'\u001b[0m\u001b[0;34m)\u001b[0m\u001b[0;34m\u001b[0m\u001b[0m\n\u001b[0;32m----> 3\u001b[0;31m \u001b[0mstudents\u001b[0m\u001b[0;34m[\u001b[0m\u001b[0;36m3\u001b[0m\u001b[0;34m]\u001b[0m \u001b[0;34m=\u001b[0m \u001b[0;34m\"小兵\"\u001b[0m\u001b[0;34m\u001b[0m\u001b[0m\n\u001b[0m\u001b[1;32m      4\u001b[0m \u001b[0mprint\u001b[0m\u001b[0;34m(\u001b[0m\u001b[0mstudents\u001b[0m\u001b[0;34m)\u001b[0m  \u001b[0;31m#结果显示对象不支持元素的更改\u001b[0m\u001b[0;34m\u001b[0m\u001b[0m\n",
      "\u001b[0;31mTypeError\u001b[0m: 'tuple' object does not support item assignment"
     ]
    }
   ],
   "source": [
    "#元组\n",
    "students =(\"小明\",\"小华\",\"小李\",'小娟',3,'abcdfg')  #()和（）是不同的 注意英文状态下的小括号\n",
    "students[3] = \"小兵\"\n",
    "print(students)  #结果显示对象不支持元素的更改  所以元组会比列表更安全"
   ]
  },
  {
   "cell_type": "markdown",
   "metadata": {},
   "source": [
    "### 1.3.3 集合 Set\n",
    "集合有两个功能：第一就是进行集合操作，如交集 &；并集|；差集 -；\n",
    "              第二就是消除重复的元素 集合的格式是 set()"
   ]
  },
  {
   "cell_type": "code",
   "execution_count": 46,
   "metadata": {},
   "outputs": [
    {
     "name": "stdout",
     "output_type": "stream",
     "text": [
      "{'a', 'g', 'b', 'f', 'h'}\n"
     ]
    }
   ],
   "source": [
    "a = [1,2,3,4]\n",
    "set(a)\n",
    "b = set('aaaabbbbffgh')\n",
    "print(b)"
   ]
  },
  {
   "cell_type": "markdown",
   "metadata": {},
   "source": [
    "### 1.3.4 字典 dict\n",
    "在Python中的字典也叫做关联数组，可以理解为列表的升级版，用大括号{}来表示，格式为{key1:value1,key2:value2,.......keyn:valuen}"
   ]
  },
  {
   "cell_type": "code",
   "execution_count": 55,
   "metadata": {},
   "outputs": [
    {
     "name": "stdout",
     "output_type": "stream",
     "text": [
      "小明\n",
      "书法\n"
     ]
    }
   ],
   "source": [
    "#字典\n",
    "k = {\"姓名\":\"小明\",\"年龄\":24}\n",
    "print(k[\"姓名\"])\n",
    "\n",
    "#字典里添加项目\n",
    "k[\"爱好\"]=\"书法\"\n",
    "print(k[\"爱好\"])\n",
    "\n",
    "#字典方法\n",
    "#cmp(dict1,dict2) :比较两个字典元素\n",
    "len(k)  #返回键的总数\n",
    "str(k)  #输出字典可打印的字符串表示\n",
    "k.clear()"
   ]
  },
  {
   "cell_type": "markdown",
   "metadata": {},
   "source": [
    "### 1.4 标识符\n",
    "在python中编程时使用的名称叫作标识符，变量和常量就是标识符的一种。在python中标识符的命名是有规则\n",
    "（1）第一个字符必须是字母或者下划线，不能出现数字或者其他字符\n",
    "（2）除一个字符外，其他部分可以是字母，数字和下划线\n",
    "（3）标识符是大小写敏感的，比如name和Name是不同的标识符"
   ]
  },
  {
   "cell_type": "code",
   "execution_count": null,
   "metadata": {},
   "outputs": [],
   "source": []
  },
  {
   "cell_type": "code",
   "execution_count": null,
   "metadata": {},
   "outputs": [],
   "source": []
  }
 ],
 "metadata": {
  "kernelspec": {
   "display_name": "Python 3",
   "language": "python",
   "name": "python3"
  },
  "language_info": {
   "codemirror_mode": {
    "name": "ipython",
    "version": 3
   },
   "file_extension": ".py",
   "mimetype": "text/x-python",
   "name": "python",
   "nbconvert_exporter": "python",
   "pygments_lexer": "ipython3",
   "version": "3.7.3"
  }
 },
 "nbformat": 4,
 "nbformat_minor": 2
}
